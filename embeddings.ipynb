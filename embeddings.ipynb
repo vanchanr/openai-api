{
 "cells": [
  {
   "cell_type": "markdown",
   "id": "2b59787e-24e2-4d48-ba39-484f6d28f05c",
   "metadata": {},
   "source": [
    "### embeddings:\n",
    "- turn text into a list of floating point values\n",
    "- **use cases**:\n",
    "  - search\n",
    "  - recommendations\n",
    "  - clustering\n",
    "  - classification\n",
    "  - anomaly detection"
   ]
  },
  {
   "cell_type": "code",
   "execution_count": null,
   "id": "c3ce8c67-3fc1-4b96-87be-c780e4206ba8",
   "metadata": {},
   "outputs": [],
   "source": [
    "!pip install python-dotenv\n",
    "!pip install requests"
   ]
  },
  {
   "cell_type": "code",
   "execution_count": 11,
   "id": "a5815707-2308-415e-a5cf-3cfb3e4795d8",
   "metadata": {},
   "outputs": [],
   "source": [
    "from dotenv import load_dotenv\n",
    "import os\n",
    "import requests\n",
    "\n",
    "load_dotenv()\n",
    "\n",
    "api_key = os.getenv('OPENAI_API_KEY')"
   ]
  },
  {
   "cell_type": "code",
   "execution_count": 28,
   "id": "b3ef7ad2-272c-463d-a290-75c4dc28ad0c",
   "metadata": {},
   "outputs": [],
   "source": [
    "base_url = \"https://api.openai.com\"\n",
    "url = f\"{base_url}/v1/embeddings\"\n",
    "headers = {\n",
    "    \"Authorization\": f\"Bearer {api_key}\",\n",
    "    \"Content-Type\": \"application/json\"\n",
    "}"
   ]
  },
  {
   "cell_type": "code",
   "execution_count": 29,
   "id": "44416448-bf89-4eaa-a620-dd6a91c25858",
   "metadata": {},
   "outputs": [],
   "source": [
    "def get_embedding(text, model=\"text-embedding-3-small\"):\n",
    "    data = {\n",
    "        \"input\": text,\n",
    "        \"model\": model,\n",
    "        \"dimensions\": 100\n",
    "    }\n",
    "    return requests.post(url, headers=headers, json=data).json()['data'][0]['embedding']"
   ]
  },
  {
   "cell_type": "code",
   "execution_count": 30,
   "id": "ed69bd2f-c1e6-4888-8749-92d87f6c3eca",
   "metadata": {},
   "outputs": [
    {
     "name": "stdout",
     "output_type": "stream",
     "text": [
      "[-0.057953417, -0.11636031, 0.055640724, 0.0919183, -0.11463712, -0.13513395, -0.02702679, 0.18147855, -0.079856, -0.08420931, -0.012901211, -0.08230474, -0.019181766, -0.074686445, -0.0043533086, 0.15000775, -0.14084767, 0.033715468, -0.00042300214, 0.12987371, 0.12951092, -0.044440024, 0.003412359, 0.020598859, 0.08434535, -0.020916287, -0.14873804, 0.17222777, 0.054552395, -0.14257085, 0.12606455, -0.12162056, 0.04017741, -0.03373814, 0.053101294, 0.0013221474, 0.039293144, 0.035075877, -0.059812643, -0.040290777, -0.15309134, -0.10674675, 0.12715289, 0.035007857, -0.11735794, 0.057137173, -0.13068995, 0.13948725, 0.110011734, 0.14610791, 0.0043731476, 0.103300385, 0.06734024, 0.3420975, -0.019589888, -0.14266154, 0.011206368, 0.24578054, -0.09395891, 0.00087009487, 0.08656735, 0.047795698, 0.041379105, 0.07477714, 0.046140537, 0.045233596, -0.09114739, -0.01158048, -0.035506673, 0.18329242, -0.0052177347, 0.1314155, -0.0058270846, -0.058588278, -0.053418722, -0.019147756, -0.047659658, -0.009902643, 0.01979395, -0.18138786, -0.15154955, 0.021233715, -0.086658046, -0.21313073, -0.036186878, 0.024918156, -0.112007, 0.018943693, -0.058316194, -0.07114939, 0.038726307, 0.0717389, -0.0133433435, 0.0672042, 0.052058313, -0.038114123, -0.06620657, 0.13259453, 0.21766542, -0.05840689]\n"
     ]
    }
   ],
   "source": [
    "print(get_embedding(\"hello world!\"))"
   ]
  }
 ],
 "metadata": {
  "kernelspec": {
   "display_name": "Python 3 (ipykernel)",
   "language": "python",
   "name": "python3"
  },
  "language_info": {
   "codemirror_mode": {
    "name": "ipython",
    "version": 3
   },
   "file_extension": ".py",
   "mimetype": "text/x-python",
   "name": "python",
   "nbconvert_exporter": "python",
   "pygments_lexer": "ipython3",
   "version": "3.12.1"
  }
 },
 "nbformat": 4,
 "nbformat_minor": 5
}
