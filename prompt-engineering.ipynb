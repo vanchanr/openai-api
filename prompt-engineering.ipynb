{
 "cells": [
  {
   "cell_type": "markdown",
   "id": "758ad2f6-cb53-40a4-9c1f-5f8fb8615793",
   "metadata": {},
   "source": [
    "### hello"
   ]
  },
  {
   "cell_type": "code",
   "execution_count": null,
   "id": "51e5a94b-bbe8-4b29-bfec-4ac97b4ca045",
   "metadata": {},
   "outputs": [],
   "source": [
    "!pip install python-dotenv\n",
    "!pip install requests"
   ]
  },
  {
   "cell_type": "code",
   "execution_count": 1,
   "id": "7ded2a9e-46e5-40ee-ac4a-e3298859dc80",
   "metadata": {},
   "outputs": [],
   "source": [
    "from dotenv import load_dotenv\n",
    "import os\n",
    "import requests\n",
    "\n",
    "load_dotenv()\n",
    "\n",
    "api_key = os.getenv('OPENAI_API_KEY')\n",
    "base_url = \"https://api.openai.com\"\n",
    "headers = {\n",
    "    \"Authorization\": f\"Bearer {api_key}\",\n",
    "    \"Content-Type\": \"application/json\"\n",
    "}"
   ]
  },
  {
   "cell_type": "code",
   "execution_count": 2,
   "id": "c7e27529-0080-4381-81f4-50fadd2b6548",
   "metadata": {},
   "outputs": [],
   "source": [
    "url = f\"{base_url}/v1/chat/completions\"\n",
    "\n",
    "def chat_complete(user_msg, system_msg=\"\", model=\"gpt-4o\"):\n",
    "    data = {\n",
    "        \"model\": model,\n",
    "        \"messages\": [\n",
    "            {\n",
    "                \"role\": \"system\",\n",
    "                \"content\": system_msg\n",
    "            },\n",
    "            {\n",
    "                \"role\": \"user\",\n",
    "                \"content\": user_msg\n",
    "            }\n",
    "        ],\n",
    "        \"temperature\": 0.5,\n",
    "        \"max_tokens\": 256,\n",
    "        \"top_p\": 1\n",
    "    }\n",
    "    return requests.post(url, headers=headers, json=data).json()['choices'][0]['message']['content']"
   ]
  },
  {
   "cell_type": "code",
   "execution_count": 25,
   "id": "342aea6a-69d0-4923-b278-2e8a9566c28f",
   "metadata": {},
   "outputs": [
    {
     "name": "stdout",
     "output_type": "stream",
     "text": [
      "Below is a sample CSV content for some top science fiction movies along with their year of release. You can copy this content into a CSV file.\n",
      "\n",
      "```\n",
      "Title,Year\n",
      "\"2001: A Space Odyssey\",1968\n",
      "\"Blade Runner\",1982\n",
      "\"Star Wars: Episode IV - A New Hope\",1977\n",
      "\"The Matrix\",1999\n",
      "\"Inception\",2010\n",
      "\"Interstellar\",2014\n",
      "\"Back to the Future\",1985\n",
      "\"Jurassic Park\",1993\n",
      "\"The Terminator\",1984\n",
      "\"Alien\",1979\n",
      "\"E.T. the Extra-Terrestrial\",1982\n",
      "\"Avatar\",2009\n",
      "\"Mad Max: Fury Road\",2015\n",
      "\"The Fifth Element\",1997\n",
      "\"Arrival\",2016\n",
      "\"Gravity\",2013\n",
      "\"District 9\",2009\n",
      "\"The Day the Earth Stood Still\",1951\n",
      "\"Metropolis\",1927\n",
      "\"Guardians of the Galaxy\",2014\n",
      "```\n",
      "\n",
      "Feel free to add or remove movies based on your preferences!\n"
     ]
    }
   ],
   "source": [
    "print(chat_complete(\"Create a two-column CSV of top science fiction movies along with the year of release.\"))"
   ]
  },
  {
   "cell_type": "code",
   "execution_count": 24,
   "id": "70a31663-4bda-44ad-acfa-36a8ba407b5a",
   "metadata": {},
   "outputs": [
    {
     "name": "stdout",
     "output_type": "stream",
     "text": [
      "Certainly! Below is a two-column CSV listing some of the top Indian science fiction movies along with their year of release:\n",
      "\n",
      "```csv\n",
      "Title,Year\n",
      "\"Enthiran\",2010\n",
      "\"Koi... Mil Gaya\",2003\n",
      "\"Ra.One\",2011\n",
      "\"24\",2016\n",
      "\"Robot 2.0\",2018\n",
      "\"Dasavathaaram\",2008\n",
      "\"Mr. India\",1987\n",
      "\"PK\",2014\n",
      "\"Eega\",2012\n",
      "\"Cargo\",2019\n",
      "\"Time Story\",2016\n",
      "\"Joker\",2016\n",
      "\"Krrish\",2006\n",
      "\"Indru Netru Naalai\",2015\n",
      "\"Mission Mangal\",2019\n",
      "```\n",
      "\n",
      "This list includes a mix of popular and critically acclaimed Indian science fiction movies spanning various years.\n"
     ]
    }
   ],
   "source": [
    "print(chat_complete(\"Create a two-column CSV of top Indian science fiction movies along with the year of release.\"))"
   ]
  },
  {
   "cell_type": "code",
   "execution_count": 28,
   "id": "4630f6e6-b340-47b2-9809-f0078c4adf9b",
   "metadata": {},
   "outputs": [
    {
     "name": "stdout",
     "output_type": "stream",
     "text": [
      "She didn't go to the market.\n"
     ]
    }
   ],
   "source": [
    "print(chat_complete(\"She no went to the market.\", system_msg=\"You will be provided with statements, and your task is to convert them to standard English.\"))"
   ]
  },
  {
   "cell_type": "code",
   "execution_count": 33,
   "id": "3c8af568-5f08-415c-8a28-252f9d2eddad",
   "metadata": {},
   "outputs": [
    {
     "name": "stdout",
     "output_type": "stream",
     "text": [
      ".suneV dna nooM eht retfa yks thgin eht ni tcejbo larutan tsethgirb-driht eht egareva no si dna ,[swodahs elbisisv tsac ot thgil detcelfer sti rof hguone thgirb eb nac reputeJ ,htraE morf deweiv nehW ]91[ .reputeJ doG namoR eht retfa deman si tI .yrotsih dedrocer erofeb ecnis snoitazilivic tneicna ot nwonk neeb sah dna ,yks thgin eht ni eye dekans eht ot elbisiV stcejbo tsegirb eht fo eno si reputeJ .denibmoc metsyS raloS eht ni ste nalp rehto eht lla fo taht semit-fla-hdna-owt tub ,nuS eht fo taht dnasuoht-enO htiw tnaig sag a si tI .metsyS raloS eht ni tsegral eht dna nuS eht morf tenalp htfi eht si reputeJ\n"
     ]
    }
   ],
   "source": [
    "print(chat_complete(\n",
    "    \"Jupiter is the fifth planet from the Sun and the largest in the Solar System. It is a gas giant with a mass one-thousandth that of the Sun, but two-and-a-half times that of all the other planets in the Solar System combined. Jupiter is one of the brightest objects visible to the naked eye in the night sky, and has been known to ancient civilizations since before recorded history. It is named after the Roman god Jupiter.[19] When viewed from Earth, Jupiter can be bright enough for its reflected light to cast visible shadows,[20] and is on average the third-brightest natural object in the night sky after the Moon and Venus.\", \n",
    "    system_msg=\"reverse the content you are provided with\"\n",
    "))"
   ]
  },
  {
   "cell_type": "code",
   "execution_count": 8,
   "id": "c03ff1d8-049c-4055-959a-c62f42bac147",
   "metadata": {},
   "outputs": [
    {
     "name": "stdout",
     "output_type": "stream",
     "text": [
      "The mood of the text is sad or disappointed.\n"
     ]
    }
   ],
   "source": [
    "print(chat_complete(\n",
    "    \"India lost the worldcup :(\", \n",
    "    system_msg=\"Your job is to identify the mood of the text\"\n",
    "))"
   ]
  }
 ],
 "metadata": {
  "kernelspec": {
   "display_name": "Python 3 (ipykernel)",
   "language": "python",
   "name": "python3"
  },
  "language_info": {
   "codemirror_mode": {
    "name": "ipython",
    "version": 3
   },
   "file_extension": ".py",
   "mimetype": "text/x-python",
   "name": "python",
   "nbconvert_exporter": "python",
   "pygments_lexer": "ipython3",
   "version": "3.12.1"
  }
 },
 "nbformat": 4,
 "nbformat_minor": 5
}
